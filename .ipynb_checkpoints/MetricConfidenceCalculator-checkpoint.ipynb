{
 "cells": [
  {
   "cell_type": "markdown",
   "metadata": {
    "id": "makW0y-Ixiat"
   },
   "source": [
    "# Calculating confidence in a metric\n",
    "### Leyla Tarhan\n",
    "### 6/2022\n",
    "\n",
    "Code to think through how confident we should be that a metric that we've measured reflects the true metric that we would be able to measure with infinite data."
   ]
  },
  {
   "cell_type": "code",
   "execution_count": 2,
   "metadata": {
    "executionInfo": {
     "elapsed": 416,
     "status": "ok",
     "timestamp": 1660576846493,
     "user": {
      "displayName": "Leyla Tarhan",
      "userId": "16447652414474845344"
     },
     "user_tz": 240
    },
    "id": "OdmjGa5RxcQp"
   },
   "outputs": [],
   "source": [
    "# set up libraries\n",
    "from scipy.stats import beta\n",
    "import matplotlib.pyplot as plt\n",
    "import numpy as np"
   ]
  },
  {
   "cell_type": "code",
   "execution_count": 4,
   "metadata": {
    "executionInfo": {
     "elapsed": 124,
     "status": "ok",
     "timestamp": 1660576856895,
     "user": {
      "displayName": "Leyla Tarhan",
      "userId": "16447652414474845344"
     },
     "user_tz": 240
    },
    "id": "dYpSpjymQYXD"
   },
   "outputs": [],
   "source": [
    "# define some case-specific variables\n",
    "# (change these values for your specific metric)\n",
    "\n",
    "# what are your prior beliefs?\n",
    "strength = 10; # think of this as people you're acting as though you've already seen when forming your prior -- lower numbers = weaker/wider priors; range = (0, infinity)\n",
    "priorProb = .1; # your hypothesis about the true probability that someone will interact with the feature; range = (0, 1)\n",
    "\n",
    "# what are your observed data?\n",
    "obs_y = 1; # number of users who interacted with the feature (or whatever)\n",
    "obs_n = 9; # number of users who *didn't* interact with the feature\n",
    "\n",
    "# what's your target metric? (e.g., your OKR)\n",
    "refPoint = .1 # e.g., .1 = 10% of users interacting with the feature\n"
   ]
  },
  {
   "cell_type": "code",
   "execution_count": 5,
   "metadata": {
    "colab": {
     "base_uri": "https://localhost:8080/",
     "height": 312
    },
    "executionInfo": {
     "elapsed": 377,
     "status": "ok",
     "timestamp": 1660576859765,
     "user": {
      "displayName": "Leyla Tarhan",
      "userId": "16447652414474845344"
     },
     "user_tz": 240
    },
    "id": "Av31XNx7x52-",
    "outputId": "b9fca04f-3ecb-4fd7-e5f2-12a79f648df0"
   },
   "outputs": [],
   "source": [
    "# set up a prior distribution\n",
    "\n",
    "# calculate the prior based on the parameters above:\n",
    "prior_y = priorProb * strength # number of users you should expect to interact with the feature, given your priors\n",
    "prior_n = strength - prior_y # number of users you should expect to *not* interact with the feature, given your priors\n",
    "priorDistribution = beta(prior_y, prior_n)\n",
    "\n",
    "## [optional:] plot the prior:\n",
    "#fig, ax = plt.subplots(1, 1)\n",
    "#x = np.linspace(0, 1)\n",
    "#ax.plot(x, priorDistribution.pdf(x), 'k-', lw=2)\n",
    "#plt.xlabel('possible probability of interacting with the feature')\n",
    "#plt.ylabel('likelihood of the probability')\n",
    "#plt.title('prior distribution')\n",
    "\n",
    "# how to read this plot:\n",
    "# y ~ relative likelihood of the possible probabilities\n",
    "# x = possible probabilities that someone uses the feature\n"
   ]
  },
  {
   "cell_type": "code",
   "execution_count": 6,
   "metadata": {
    "colab": {
     "base_uri": "https://localhost:8080/",
     "height": 312
    },
    "executionInfo": {
     "elapsed": 455,
     "status": "ok",
     "timestamp": 1660576863280,
     "user": {
      "displayName": "Leyla Tarhan",
      "userId": "16447652414474845344"
     },
     "user_tz": 240
    },
    "id": "gH_Lpx303vzW",
    "outputId": "bad218d2-9096-4209-846d-9e1bc44c6a18"
   },
   "outputs": [
    {
     "data": {
      "text/plain": [
       "Text(0.5, 1.0, 'posterior distribution')"
      ]
     },
     "execution_count": 6,
     "metadata": {},
     "output_type": "execute_result"
    },
    {
     "data": {
      "image/png": "[encoded data removed]",
      "text/plain": [
       "<Figure size 432x288 with 1 Axes>"
      ]
     },
     "metadata": {
      "needs_background": "light"
     },
     "output_type": "display_data"
    }
   ],
   "source": [
    "# calculate a posterior distribution, based on the data\n",
    "post_y = prior_y + obs_y; # update your prior based on what you observed\n",
    "post_n = prior_n + obs_n;\n",
    "postDistribution = beta(post_y, post_n)\n",
    "\n",
    "# plot the posterior:\n",
    "fig, ax = plt.subplots(1, 1)\n",
    "x = np.linspace(0, 1)\n",
    "ax.plot(x, postDistribution.pdf(x), 'k-', lw=2)\n",
    "ax.plot([.1, .1], [0, 10], 'r--') # add a reference line to mark your target metric\n",
    "plt.xlabel('possible probability of interacting with the feature')\n",
    "plt.ylabel('likelihood of the probability')\n",
    "plt.title('posterior distribution')\n",
    "\n"
   ]
  },
  {
   "cell_type": "code",
   "execution_count": 7,
   "metadata": {
    "colab": {
     "base_uri": "https://localhost:8080/"
    },
    "executionInfo": {
     "elapsed": 119,
     "status": "ok",
     "timestamp": 1660576867224,
     "user": {
      "displayName": "Leyla Tarhan",
      "userId": "16447652414474845344"
     },
     "user_tz": 240
    },
    "id": "Dv2M2va3OtfC",
    "outputId": "dbd0dae2-213e-4fac-9852-46db5aa51dbd"
   },
   "outputs": [
    {
     "name": "stdout",
     "output_type": "stream",
     "text": [
      "probability that metric is >= 0.1 = 0.42\n"
     ]
    }
   ],
   "source": [
    "# based on the posterior, calculate probability that the *true* interaction probability is >= some reference point\n",
    "prParam = 1 - postDistribution.cdf(refPoint)\n",
    "print(\"probability that metric is >= \" + str(refPoint) + \" = \" + str(round(prParam, 2)))\n",
    "\n"
   ]
  },
  {
   "cell_type": "code",
   "execution_count": 8,
   "metadata": {
    "colab": {
     "base_uri": "https://localhost:8080/",
     "height": 392
    },
    "executionInfo": {
     "elapsed": 646,
     "status": "ok",
     "timestamp": 1660576907389,
     "user": {
      "displayName": "Leyla Tarhan",
      "userId": "16447652414474845344"
     },
     "user_tz": 240
    },
    "id": "OhixM38LYvrJ",
    "outputId": "a7a9abfd-f9a3-4e87-ba97-fc7b54ff99f6"
   },
   "outputs": [
    {
     "data": {
      "image/png": "[encoded data removed]",
      "text/plain": [
       "<Figure size 432x288 with 1 Axes>"
      ]
     },
     "metadata": {
      "needs_background": "light"
     },
     "output_type": "display_data"
    },
    {
     "name": "stdout",
     "output_type": "stream",
     "text": [
      "Holding the following variables constant:\n",
      "observed ratio = 0.1\n",
      "prior prob. of interaction = 0.1\n",
      "prior strength = 10\n"
     ]
    }
   ],
   "source": [
    "# how would your confidence change if you had the same ratio of engaged:didn't engage, the same prior, but more data?\n",
    "\n",
    "ns = np.arange(1, 201) # the *total* sample sizes you'll consider (engaged + didn't engage -- setting upper limit to 200 for now)\n",
    "probs = np.zeros(len(ns)) # initialize an array to store probability that exceeded the reference mark at each simulated sample size\n",
    "obs_ratio = obs_y/(obs_y + obs_n) # proportion of users who engage with the feature, based on data we've actually observed at this point\n",
    "\n",
    "# loop through the sample sizes\n",
    "for n in ns:\n",
    "    # if we keep this ratio constant, with this hypothetical total N how many users would engage / not engage?\n",
    "    curr_y = n*obs_ratio\n",
    "    curr_n = n - curr_y\n",
    "    \n",
    "    # calculate the posterior based on this hypothetical observation\n",
    "    curr_post_y = prior_y + curr_y;\n",
    "    curr_post_n = prior_n + curr_n;\n",
    "    curr_postDistribution = beta(curr_post_y, curr_post_n)\n",
    "    \n",
    "    # from this posterior, calculate the probability that we achieved the reference metric\n",
    "    idx = np.where(ns == n)[0][0]\n",
    "    if curr_y <1 or curr_y <1:\n",
    "        # not enough data to get a whole user -- shouldn't even calculate probability bc this isn't a possible observation\n",
    "        probs[idx] = float('nan')\n",
    "    else:        \n",
    "        probs[idx] = 1 - curr_postDistribution.cdf(refPoint)\n",
    "    \n",
    "# plot the curve\n",
    "plt.plot(ns, probs)\n",
    "plt.xlabel('TOTAL sample size (interacters + non-interacters)')\n",
    "plt.ylabel('Probability that >=' + str(refPoint) + ' of users interacted with the feature')\n",
    "plt.title('Observed interaction proportion: ' + str(round(obs_ratio, 3)))\n",
    "plt.show()\n",
    "\n",
    "print('Holding the following variables constant:\\n' + 'observed ratio = ' + str(round(obs_ratio, 3)) + '\\n' \n",
    "        + 'prior prob. of interaction = ' + str(priorProb) + '\\n'\n",
    "        + 'prior strength = ' + str(strength))\n",
    "    \n",
    "    \n",
    "\n"
   ]
  }
 ],
 "metadata": {
  "colab": {
   "collapsed_sections": [],
   "name": "MetricConfidence_LTVersion.ipynb",
   "provenance": []
  },
  "kernelspec": {
   "display_name": "Python 3",
   "language": "python",
   "name": "python3"
  },
  "language_info": {
   "codemirror_mode": {
    "name": "ipython",
    "version": 3
   },
   "file_extension": ".py",
   "mimetype": "text/x-python",
   "name": "python",
   "nbconvert_exporter": "python",
   "pygments_lexer": "ipython3",
   "version": "3.7.9"
  }
 },
 "nbformat": 4,
 "nbformat_minor": 1
}
